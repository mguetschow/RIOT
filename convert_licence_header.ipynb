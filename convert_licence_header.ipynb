{
 "cells": [
  {
   "cell_type": "code",
   "execution_count": 1,
   "metadata": {},
   "outputs": [],
   "source": [
    "import os\n",
    "import re\n",
    "from enum import Enum, auto"
   ]
  },
  {
   "cell_type": "code",
   "execution_count": 2,
   "metadata": {},
   "outputs": [],
   "source": [
    "file_spec_c = {\n",
    "    'regex_first_comment': r'^\\s*/\\*\\n((.|\\n)*?) \\*/',\n",
    "    'linestart_comment': ' *',\n",
    "}\n",
    "\n",
    "file_spec_py = {\n",
    "    'regex_first_comment': r'^\\s*(?:#\\!.*(?:\\n#.*)*)?\\s*((?:#[^\\!].*\\n)+)',\n",
    "    'linestart_comment': '#',\n",
    "}\n",
    "\n",
    "file_spec_mk = file_spec_py\n",
    "file_spec_kconfig = file_spec_py\n",
    "\n",
    "file_specs_ext = {\n",
    "    '.c': file_spec_c,\n",
    "    '.h': file_spec_c,\n",
    "    '.py': file_spec_py,\n",
    "    '.mk': file_spec_mk,\n",
    "    '.config': file_spec_kconfig,\n",
    "    '.md': None,\n",
    "}\n",
    "\n",
    "file_specs_name = {\n",
    "    'Makefile': file_spec_mk,\n",
    "    'Kconfig': file_spec_kconfig,\n",
    "}"
   ]
  },
  {
   "cell_type": "code",
   "execution_count": 3,
   "metadata": {},
   "outputs": [],
   "source": [
    "licence_map = {\n",
    "    'LGPL-2.1-only': \"This file is subject to the terms and conditions of the GNU Lesser General Public License v2.1. See the file LICENSE in the top level directory for more details.\",\n",
    "}\n",
    "\n",
    "licence_map = dict((v, k) for k, v in licence_map.items())"
   ]
  },
  {
   "cell_type": "code",
   "execution_count": 4,
   "metadata": {},
   "outputs": [],
   "source": [
    "class LicenceReplaceResult(Enum):\n",
    "    ERROR_UNRECOGNIZED_FILETYPE = auto()\n",
    "    ERROR_NO_STARTING_COMMENT = auto()\n",
    "    ERROR_NO_COPYRIGHT_FOUND = auto()\n",
    "    ERROR_COMMENT_PARSING_ERROR = auto()\n",
    "    ERROR_UNKNOWN_LICENCE_TEXT = auto()\n",
    "    WARNING_ALREADY_CONVERTED = auto()\n",
    "    SUCCES_CONVERTED = auto()"
   ]
  },
  {
   "cell_type": "code",
   "execution_count": 38,
   "metadata": {},
   "outputs": [],
   "source": [
    "def convert(path):\n",
    "\n",
    "    # if path is folder, recursively go over subfolders\n",
    "    if os.path.isdir(path):\n",
    "        results = []\n",
    "        for file in os.listdir(path):\n",
    "            results += convert(os.path.join(path, file))\n",
    "        return results\n",
    "\n",
    "    # silently ignore anything that is not a file\n",
    "    if not os.path.isfile(path):\n",
    "        return []\n",
    "\n",
    "    # recognize file type\n",
    "    file_name, file_ext = os.path.splitext(os.path.basename(path))\n",
    "    if file_ext in file_specs_ext.keys():\n",
    "        file_spec = file_specs_ext[file_ext]\n",
    "    elif file_name in file_specs_name.keys():\n",
    "        file_spec = file_specs_name[file_name]\n",
    "    else:\n",
    "        return [(path, LicenceReplaceResult.ERROR_UNRECOGNIZED_FILETYPE)]\n",
    "\n",
    "    # file types to explicitly ignore\n",
    "    if file_spec is None:\n",
    "        return []\n",
    "    \n",
    "    # read file\n",
    "    with open(path, \"r\") as f:\n",
    "        content = f.read()\n",
    "\n",
    "    # locate first comment in file\n",
    "    m = re.search(file_spec['regex_first_comment'], content)\n",
    "    if m is None:\n",
    "        return [(path, LicenceReplaceResult.ERROR_NO_STARTING_COMMENT)]\n",
    "\n",
    "    # parse raw comment\n",
    "    c = m[1].replace('\\n'+file_spec['linestart_comment'], '\\n').strip()\n",
    "\n",
    "    # check if file has been already converted\n",
    "    if 'SPDX-License-Identifier:' in c:\n",
    "        return [(path, LicenceReplaceResult.WARNING_ALREADY_CONVERTED)]\n",
    "\n",
    "    # expect two paragraphs with copyright first, licence second\n",
    "    parts = c.split('\\n\\n')\n",
    "    print(parts)\n",
    "    if len(parts) == 2:\n",
    "        copyrights = []\n",
    "        for c in re.finditer(r'Copyright \\([Cc]\\) (.*)', parts[0]):\n",
    "            copyrights += [cc.strip() for cc in c[1].split('\\n')]\n",
    "        if len(copyrights) == 0:\n",
    "            return [(path, LicenceReplaceResult.ERROR_NO_COPYRIGHT_FOUND)]\n",
    "        print(copyrights)\n",
    "\n",
    "        licence_text = parts[1].replace('\\n', '').strip()\n",
    "    else:\n",
    "        return [(path, LicenceReplaceResult.ERROR_COMMENT_PARSING_ERROR)]\n",
    "        return\n",
    "\n",
    "    # map licence text\n",
    "    if licence_text not in licence_map:\n",
    "        return [(path, LicenceReplaceResult.ERROR_UNKNOWN_LICENCE_TEXT)]\n",
    "    licence = licence_map[licence_text]\n",
    "\n",
    "    # rewrite comment\n",
    "    content = (content[:m.start(1)]\n",
    "        + file_spec['linestart_comment'] + f' SPDX-FileCopyrightText: {copyright}\\n'\n",
    "        + file_spec['linestart_comment'] + '\\n'\n",
    "        + file_spec['linestart_comment'] + f' SPDX-License-Identifier: {licence}\\n'\n",
    "        + content[m.end(1):])\n",
    "\n",
    "    # write file\n",
    "    # with open(path, \"w\") as f:\n",
    "    #     f.write(content)\n",
    "\n",
    "    return [(path, LicenceReplaceResult.SUCCES_CONVERTED)]"
   ]
  },
  {
   "cell_type": "code",
   "execution_count": 7,
   "metadata": {},
   "outputs": [],
   "source": [
    "def res_filter(res, restype):\n",
    "    return [r for r in res if r[1] is restype]\n",
    "\n",
    "def res_stats(res):\n",
    "    for restype in LicenceReplaceResult:\n",
    "        print(restype, len(res_filter(res, restype)))\n",
    "    \n",
    "def res_files(res, restype):\n",
    "    print(restype, [r[0] for r in res_filter(res, restype)])"
   ]
  },
  {
   "cell_type": "code",
   "execution_count": 53,
   "metadata": {},
   "outputs": [
    {
     "name": "stdout",
     "output_type": "stream",
     "text": [
      "LicenceReplaceResult.ERROR_UNRECOGNIZED_FILETYPE 13\n",
      "LicenceReplaceResult.ERROR_NO_STARTING_COMMENT 282\n",
      "LicenceReplaceResult.ERROR_NO_COPYRIGHT_FOUND 1\n",
      "LicenceReplaceResult.ERROR_COMMENT_PARSING_ERROR 5\n",
      "LicenceReplaceResult.ERROR_UNKNOWN_LICENCE_TEXT 0\n",
      "LicenceReplaceResult.WARNING_ALREADY_CONVERTED 267\n",
      "LicenceReplaceResult.SUCCES_CONVERTED 0\n",
      "LicenceReplaceResult.ERROR_NO_COPYRIGHT_FOUND ['tests/sys/puf_sram/tests/puf_sram_if.py']\n",
      "LicenceReplaceResult.ERROR_COMMENT_PARSING_ERROR ['tests/sys/xtimer_usleep/tests/01-run.py', 'tests/sys/struct_tm_utility/main.c', 'tests/sys/pthread_rwlock/main.c', 'tests/sys/pipe/main.c', 'tests/sys/posix_sleep/tests/01-run.py']\n"
     ]
    }
   ],
   "source": [
    "res = convert('tests/sys')\n",
    "\n",
    "res_stats(res)\n",
    "\n",
    "# res_files(res, LicenceReplaceResult.WARNING_ALREADY_CONVERTED)\n",
    "res_files(res, LicenceReplaceResult.ERROR_NO_COPYRIGHT_FOUND)\n",
    "res_files(res, LicenceReplaceResult.ERROR_COMMENT_PARSING_ERROR)"
   ]
  },
  {
   "cell_type": "code",
   "execution_count": 39,
   "metadata": {},
   "outputs": [
    {
     "name": "stdout",
     "output_type": "stream",
     "text": [
      "['# Copyright (C) 2017 Francisco Acosta <francisco.acosta@inria.fr>\\n Copyright (c) 2017 Freie Universität Berlin1224\\n               BLUB\\n               Blaadlfjsa;dfka;dflkan;dslkfans;dlfka;ldsn;lsnv;ladjf;laf', ' This file is subject to the terms and conditions of the GNU Lesser\\n General Public License v2.1. See the file LICENSE in the top level\\n directory for more details.']\n",
      "['', '']\n"
     ]
    },
    {
     "data": {
      "text/plain": [
       "[('tests/sys/xtimer_usleep/tests/01-run.py',\n",
       "  <LicenceReplaceResult.SUCCES_CONVERTED: 7>)]"
      ]
     },
     "execution_count": 39,
     "metadata": {},
     "output_type": "execute_result"
    }
   ],
   "source": [
    "convert('tests/sys/xtimer_usleep/tests/01-run.py')"
   ]
  },
  {
   "cell_type": "code",
   "execution_count": null,
   "metadata": {},
   "outputs": [],
   "source": []
  }
 ],
 "metadata": {
  "kernelspec": {
   "display_name": "Python 3",
   "language": "python",
   "name": "python3"
  },
  "language_info": {
   "codemirror_mode": {
    "name": "ipython",
    "version": 3
   },
   "file_extension": ".py",
   "mimetype": "text/x-python",
   "name": "python",
   "nbconvert_exporter": "python",
   "pygments_lexer": "ipython3",
   "version": "3.11.2"
  }
 },
 "nbformat": 4,
 "nbformat_minor": 2
}
